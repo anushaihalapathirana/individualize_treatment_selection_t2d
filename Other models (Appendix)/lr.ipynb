{
 "cells": [
  {
   "cell_type": "code",
   "execution_count": 1,
   "id": "5497796a",
   "metadata": {
    "execution": {
     "iopub.execute_input": "2024-08-19T13:02:36.610033Z",
     "iopub.status.busy": "2024-08-19T13:02:36.609664Z",
     "iopub.status.idle": "2024-08-19T13:02:41.065212Z",
     "shell.execute_reply": "2024-08-19T13:02:41.064888Z"
    }
   },
   "outputs": [],
   "source": [
    "import pandas as pd\n",
    "import numpy as np\n",
    "import random\n",
    "import matplotlib.pyplot as plt\n",
    "import yaml\n",
    "import shap\n",
    "import ipywidgets as widgets\n",
    "import tensorflow as tf\n",
    "import warnings\n",
    "import os \n",
    "import sys\n",
    "\n",
    "from matplotlib.pyplot import pie, axis, show\n",
    "from sklearn.ensemble import RandomForestRegressor\n",
    "from tabulate import tabulate\n",
    "from sklearn.multioutput import RegressorChain, MultiOutputRegressor\n",
    "from sklearn import linear_model\n",
    "\n",
    "from tensorflow import keras\n",
    "from xgboost.sklearn import XGBRegressor\n",
    "import lightgbm as ltb\n",
    "\n",
    "# Get the directory of the current notebook\n",
    "notebook_dir = os.path.dirname(os.path.abspath(\"__file__\"))\n",
    "\n",
    "# Define the relative path to the helper.py file\n",
    "helper_path = os.path.abspath(os.path.join(notebook_dir, \"../\"))\n",
    "\n",
    "# Add the helper directory to sys.path\n",
    "sys.path.append(helper_path)\n",
    "\n",
    "from helper import preprocess, get_test_train_data, get_features_kbest, get_features_ref, get_features_ref_multiout,\\\n",
    "    get_features_relieff, get_model_name, cross_val, get_scores, outlier_detect, train_models, pred_all,\\\n",
    "    find_lowest_respponse_value, find_highest_respponse_value, find_closest_to_42, check_aggreement,\\\n",
    "    get_concordant_discordant, print_change_mean, get_perc, percentage_change_original_data, calculate_percentage_change,\\\n",
    "    calculate_percentage_change_othre_responses, calculate_count_diff, calculate_change_diff, check_distribution,\\\n",
    "    drug_class_visualization, drug_class_outlier_remove, plot_scatter_with_CI, plot_scatter, save_data_for_ensemble,\\\n",
    "    get_feature_importance\n",
    "\n",
    "warnings.filterwarnings('ignore')\n",
    "%matplotlib inline\n",
    "\n",
    "is_train_with_all=False \n",
    "isshap = False\n",
    "# Read common variables from a YAML file\n",
    "with open('../common_variables.yaml', 'r') as file:\n",
    "    common_data = yaml.safe_load(file)\n",
    "    \n",
    "response_variable_list = common_data['response_variable_list']\n",
    "\n",
    "correlated_variables = common_data['correlated_variables']\n",
    "\n",
    "thresh = common_data['thresh']\n",
    "keep = []\n",
    "rem = []\n",
    "# feature selection\n",
    "items = ['drug_class']\n",
    "\n"
   ]
  },
  {
   "cell_type": "code",
   "execution_count": 2,
   "id": "7535768b",
   "metadata": {
    "execution": {
     "iopub.execute_input": "2024-08-19T13:02:41.068534Z",
     "iopub.status.busy": "2024-08-19T13:02:41.068321Z",
     "iopub.status.idle": "2024-08-19T13:02:41.075086Z",
     "shell.execute_reply": "2024-08-19T13:02:41.074893Z"
    }
   },
   "outputs": [],
   "source": [
    "def run(algo, i):\n",
    "    df_X_train = pd.read_csv('../resources/data/imputed_all_training_data_wo_ldl.csv', sep = ',',decimal = '.', encoding = 'utf-8', engine ='python',index_col=0)\n",
    "    df_X_test = pd.read_csv('../resources/data/testing_all_data_wo_ldl.csv', sep = ',',decimal = '.', encoding = 'utf-8', engine ='python',index_col=0)\n",
    "    \n",
    "    X_train_ = preprocess(df_X_train, response_variable_list)\n",
    "    X_test_ = preprocess(df_X_test, response_variable_list)\n",
    "    df, X_train, X_test, Y_train, Y_test, X, Y, scaler, X_test_before_scale = get_test_train_data(X_train_, X_test_, response_variable_list)\n",
    "\n",
    "    # # train with whole dataset and test with drug class 2,3 and 4 data\n",
    "    if(is_train_with_all):\n",
    "        combined_df = pd.concat([X_test, Y_test], axis=1)\n",
    "        testdf = combined_df[ \n",
    "                             (combined_df['drug_class'] == 0.25) | \n",
    "                             (combined_df['drug_class'] == 0.375) ]\n",
    "        X_test = testdf.drop([response_variable_list], axis = 1)\n",
    "        Y_test = testdf[response_variable_list]\n",
    "\n",
    "    X_test_original = X_test.copy()\n",
    "    X_train_original = X_train.copy()\n",
    "    \n",
    "\n",
    "    if(is_train_with_all):\n",
    "        sglt_val = 0.375\n",
    "        dpp_val = 0.25\n",
    "    else:\n",
    "        sglt_val = 1\n",
    "        dpp_val = 0\n",
    "\n",
    "\n",
    "    X_test_ = pd.DataFrame(X_test)\n",
    "    X_train_ = pd.DataFrame(X_train)\n",
    "\n",
    "    X_train = X_train.drop(['init_year'], axis = 1)\n",
    "    X_test = X_test.drop(['init_year'], axis = 1)\n",
    "\n",
    "    selected_features = []\n",
    "    \n",
    "    random.seed(42) \n",
    "    if algo == 'kbest':\n",
    "        for j in range(Y_train.shape[1]):  # Assuming Y.shape[1] is the number of target features\n",
    "            random.seed(42)\n",
    "            feats = get_features_kbest(X_train, Y_train.iloc[:, j],i)\n",
    "            selected_features.append(feats)\n",
    "    elif algo == 'relieff':\n",
    "        for j in range(Y_train.shape[1]):  # Assuming Y.shape[1] is the number of target features\n",
    "            random.seed(42)\n",
    "            feats = get_features_relieff(X_train, Y_train.iloc[:, j],i)\n",
    "            selected_features.append(feats)\n",
    "    elif algo == 'refMulti':\n",
    "        random.seed(42)\n",
    "        selected_list = get_features_ref_multiout(X_train, Y_train, i)\n",
    "    elif algo=='ref':\n",
    "        random.seed(42)\n",
    "        for j in range(Y_train.shape[1]):  # Assuming Y.shape[1] is the number of target features\n",
    "            feats = get_features_ref(X_train, Y_train.iloc[:, j],i)\n",
    "            selected_features.append(feats)\n",
    "    else:\n",
    "       \n",
    "        # Kbest 3 features\n",
    "        selected_list = ['bmi', 'drug_class', 'eGFR', 'hba1c_bl_18m', 'hba1c_bl_6m', 'hdl', 'ldl', 'obese', 'trigly']\n",
    "    \n",
    "    if algo == 'kbest' or algo == 'relieff' or algo == 'ref' :\n",
    "        selected_list = sum(selected_features, [])\n",
    "    \n",
    "\n",
    "    # remove duplicate\n",
    "    selected_list = np.unique(selected_list)\n",
    "    number_of_features = len(selected_list)\n",
    "    print('\\n\\n')\n",
    "    print(selected_list)\n",
    "    X_train_selected = X_train[selected_list]\n",
    "    X_test_selected = X_test[selected_list]\n",
    "\n",
    "    ################# OUTLIER CODE ################\n",
    "    print('Shape of training data before removing outliers:', np.shape(X_train_selected))\n",
    "    print('Shape of test data before removing outliers:', np.shape(X_test_selected))\n",
    "    \n",
    "    out_train, out_test = outlier_detect(X_train_selected, Y_train, X_test_selected, Y_test)\n",
    "    #out_train=[14, 415, 744, 829, 916, 967, 1386, 279, 1225, 1332, 1656, 321, 426, 480, 779, 887, 1046, 1121, 1588, 82, 104, 359, 518, 847, 945, 978, 980, 1095, 1256, 1396, 1423, 1705]\n",
    "              #[14, 415, 744, 829, 916, 967, 1386, 279, 1225, 1656, 321, 426, 480, 779, 887, 945, 1046, 1180, 1588, 82, 98, 104, 359, 711, 847, 980, 1095, 1180, 1256, 1263, 1423, 1705]\n",
    "    #out_test= [6014, 1520]\n",
    "    \n",
    "    train_ = X_train_selected.copy()\n",
    "    train_[response_variable_list] = Y_train.values\n",
    "    \n",
    "    test_ = X_test_selected.copy()\n",
    "    test_[response_variable_list] = Y_test.values\n",
    "    \n",
    "    train_ = pd.DataFrame(train_.drop(out_train, axis = 0))\n",
    "    test_ = pd.DataFrame(test_.drop(out_test, axis = 0))\n",
    "    \n",
    "    Y_train = train_[response_variable_list]\n",
    "    X_train_selected = train_.drop(response_variable_list, axis=1)\n",
    "    \n",
    "    Y_test = test_[response_variable_list]\n",
    "    X_test_selected = test_.drop(response_variable_list, axis=1)\n",
    "    \n",
    "    print('Shape of training data after removing outliers:', np.shape(X_train_selected))\n",
    "    print('Shape of test data after removing outliers:', np.shape(X_test_selected))\n",
    "\n",
    "    # remove test outliers from X_test_before_scale and X_test_original\n",
    "    X_test_before_scale = pd.DataFrame(X_test_before_scale.drop(out_test, axis = 0)) \n",
    "    X_test_original = pd.DataFrame(X_test_original.drop(out_test, axis = 0)) \n",
    "    X_train_original = pd.DataFrame(X_train_original.drop(out_train, axis = 0)) \n",
    "    \n",
    "    ################\n",
    "    \n",
    "    train = X_train_selected.copy()\n",
    "    train[response_variable_list] = Y_train.values\n",
    "\n",
    "    lr = linear_model.LinearRegression(n_jobs = 10)\n",
    "\n",
    "    random.seed(42)\n",
    "    #wrapper = MultiOutputRegressor(catboost)\n",
    "    wrapper = RegressorChain(lr, order=[0,1,2,3])\n",
    "    \n",
    "\n",
    "    models = wrapper \n",
    "    random.seed(42) \n",
    "    model_results, model = train_models(models, X_test_selected, Y_test, X_train_selected, Y_train, train, scaler, X_test_original, response_variable_list)\n",
    "    return model_results, model, X_test_selected, Y_test, X_train_selected, Y_train, train, scaler, X_test_original, selected_list, X_test_before_scale, X_train_original\n",
    "\n",
    "\n",
    "    "
   ]
  },
  {
   "cell_type": "code",
   "execution_count": 3,
   "id": "527ea8b1",
   "metadata": {
    "execution": {
     "iopub.execute_input": "2024-08-19T13:02:41.076315Z",
     "iopub.status.busy": "2024-08-19T13:02:41.076242Z",
     "iopub.status.idle": "2024-08-19T13:02:43.181522Z",
     "shell.execute_reply": "2024-08-19T13:02:43.181223Z"
    }
   },
   "outputs": [
    {
     "name": "stdout",
     "output_type": "stream",
     "text": [
      "Shape of data after excluding missing response: (1566, 125)\n",
      "Shape of full data after selecting date range dates > 21 days (1084, 115)\n",
      "Shape of data after excluding missing response: (156, 125)\n",
      "Shape of full data after selecting date range dates > 21 days (102, 115)\n",
      "X_train shape:  (1077, 107)\n",
      "(1077, 107)\n",
      "{3.0, 4.0}\n",
      "[(3.0, 440), (4.0, 637)]\n",
      "[(3.0, 637), (4.0, 637)]\n",
      "\n",
      "\n",
      "\n",
      "['bmi' 'drug_class' 'eGFR' 'hba1c_bl_18m' 'hba1c_bl_6m' 'hdl' 'ldl'\n",
      " 'obese' 'trigly']\n",
      "Shape of training data before removing outliers: (1274, 9)\n",
      "Shape of test data before removing outliers: (101, 9)\n",
      "Training set outliers: [358, 640, 238, 1060, 448, 834, 923, 952, 778, 834]\n",
      "Testing set outliers: []\n",
      "Shape of training data after removing outliers: (1265, 9)\n",
      "Shape of test data after removing outliers: (101, 9)\n",
      "Cross validation variance 0.0013297544458547431\n",
      "Cross validation mean score 0.5699551384755325\n",
      "R2 score Training : 0.5806848472239485\n",
      "R2 score Testing: 0.4361\n",
      "RMSE: 5.832998\n",
      "+----------------+-----------------+\n",
      "| Model          |   Test R2 Score |\n",
      "+================+=================+\n",
      "| RegressorChain |        0.436061 |\n",
      "+----------------+-----------------+\n",
      "\n",
      "\n",
      "\n",
      "\n"
     ]
    }
   ],
   "source": [
    "\n",
    "model_results, model, X_test, Y_test, X_train, Y_train, train, scaler, X_test_original, \\\n",
    "        selected_list, X_test_before_scale, X_train_original = run('hc',8)\n",
    "table = []\n",
    "\n",
    "for model_, score in model_results.items():\n",
    "    table.append([model_, score])\n",
    "\n",
    "table_str = tabulate(table, headers=['Model', 'Test R2 Score'], tablefmt='grid')\n",
    "print(table_str)\n",
    "        \n",
    "print('\\n\\n\\n')\n",
    "        \n"
   ]
  },
  {
   "cell_type": "code",
   "execution_count": 4,
   "id": "71b707c4",
   "metadata": {
    "execution": {
     "iopub.execute_input": "2024-08-19T13:02:43.182962Z",
     "iopub.status.busy": "2024-08-19T13:02:43.182888Z",
     "iopub.status.idle": "2024-08-19T13:02:43.227521Z",
     "shell.execute_reply": "2024-08-19T13:02:43.227287Z"
    }
   },
   "outputs": [
    {
     "name": "stdout",
     "output_type": "stream",
     "text": [
      "Regressor for output 0 does not have feature importances\n",
      "Regressor for output 1 does not have feature importances\n",
      "Regressor for output 2 does not have feature importances\n",
      "Regressor for output 3 does not have feature importances\n"
     ]
    },
    {
     "ename": "ValueError",
     "evalue": "need at least one array to concatenate",
     "output_type": "error",
     "traceback": [
      "\u001b[0;31m---------------------------------------------------------------------------\u001b[0m",
      "\u001b[0;31mValueError\u001b[0m                                Traceback (most recent call last)",
      "Cell \u001b[0;32mIn[4], line 4\u001b[0m\n\u001b[1;32m      1\u001b[0m \u001b[38;5;66;03m# this cell calculations are for ensemble model\u001b[39;00m\n\u001b[1;32m      2\u001b[0m save_data_for_ensemble(X_train_original, Y_train, X_test_original, Y_test)\n\u001b[0;32m----> 4\u001b[0m average_feature_importances \u001b[38;5;241m=\u001b[39m get_feature_importance(model, X_test)\n\u001b[1;32m      5\u001b[0m average_feature_importances\n",
      "File \u001b[0;32m~/Documents/Academic/EUF/Treatment_selection_Aug_19/imputation codes /src/helper.py:823\u001b[0m, in \u001b[0;36mget_feature_importance\u001b[0;34m(model, X)\u001b[0m\n\u001b[1;32m    820\u001b[0m     \u001b[38;5;28;01melse\u001b[39;00m:\n\u001b[1;32m    821\u001b[0m         \u001b[38;5;28mprint\u001b[39m(\u001b[38;5;124mf\u001b[39m\u001b[38;5;124m\"\u001b[39m\u001b[38;5;124mRegressor for output \u001b[39m\u001b[38;5;132;01m{\u001b[39;00mi\u001b[38;5;132;01m}\u001b[39;00m\u001b[38;5;124m does not have feature importances\u001b[39m\u001b[38;5;124m\"\u001b[39m)\n\u001b[0;32m--> 823\u001b[0m stacked_feature_importances \u001b[38;5;241m=\u001b[39m np\u001b[38;5;241m.\u001b[39mvstack(feature_importances)\n\u001b[1;32m    824\u001b[0m average_feature_importances \u001b[38;5;241m=\u001b[39m np\u001b[38;5;241m.\u001b[39mmean(stacked_feature_importances, axis\u001b[38;5;241m=\u001b[39m\u001b[38;5;241m0\u001b[39m)\n\u001b[1;32m    825\u001b[0m importances_df \u001b[38;5;241m=\u001b[39m pd\u001b[38;5;241m.\u001b[39mDataFrame({\n\u001b[1;32m    826\u001b[0m     \u001b[38;5;124m'\u001b[39m\u001b[38;5;124mFeature\u001b[39m\u001b[38;5;124m'\u001b[39m: X\u001b[38;5;241m.\u001b[39mcolumns,\n\u001b[1;32m    827\u001b[0m     \u001b[38;5;124m'\u001b[39m\u001b[38;5;124mImportance\u001b[39m\u001b[38;5;124m'\u001b[39m: average_feature_importances\n\u001b[1;32m    828\u001b[0m })\u001b[38;5;241m.\u001b[39msort_values(by\u001b[38;5;241m=\u001b[39m\u001b[38;5;124m'\u001b[39m\u001b[38;5;124mImportance\u001b[39m\u001b[38;5;124m'\u001b[39m, ascending\u001b[38;5;241m=\u001b[39m\u001b[38;5;28;01mFalse\u001b[39;00m)\n",
      "File \u001b[0;32m~/anaconda3/envs/EUF/lib/python3.11/site-packages/numpy/core/shape_base.py:289\u001b[0m, in \u001b[0;36mvstack\u001b[0;34m(tup, dtype, casting)\u001b[0m\n\u001b[1;32m    287\u001b[0m \u001b[38;5;28;01mif\u001b[39;00m \u001b[38;5;129;01mnot\u001b[39;00m \u001b[38;5;28misinstance\u001b[39m(arrs, \u001b[38;5;28mlist\u001b[39m):\n\u001b[1;32m    288\u001b[0m     arrs \u001b[38;5;241m=\u001b[39m [arrs]\n\u001b[0;32m--> 289\u001b[0m \u001b[38;5;28;01mreturn\u001b[39;00m _nx\u001b[38;5;241m.\u001b[39mconcatenate(arrs, \u001b[38;5;241m0\u001b[39m, dtype\u001b[38;5;241m=\u001b[39mdtype, casting\u001b[38;5;241m=\u001b[39mcasting)\n",
      "\u001b[0;31mValueError\u001b[0m: need at least one array to concatenate"
     ]
    }
   ],
   "source": [
    "# this cell calculations are for ensemble model\n",
    "save_data_for_ensemble(X_train_original, Y_train, X_test_original, Y_test)\n",
    "\n",
    "average_feature_importances = get_feature_importance(model, X_test)\n",
    "average_feature_importances"
   ]
  },
  {
   "cell_type": "code",
   "execution_count": null,
   "id": "81427370",
   "metadata": {
    "execution": {
     "iopub.execute_input": "2024-08-19T13:02:43.228855Z",
     "iopub.status.busy": "2024-08-19T13:02:43.228773Z",
     "iopub.status.idle": "2024-08-19T13:02:43.451821Z",
     "shell.execute_reply": "2024-08-19T13:02:43.451581Z"
    }
   },
   "outputs": [],
   "source": [
    "import matplotlib.pyplot as plt\n",
    "import numpy as np\n",
    "\n",
    "\n",
    "# Assuming Y_test and y_pred are your true and predicted values for multiple features\n",
    "# Replace Y_test and y_pred with your actual variables\n",
    "def plot_actual_pred(df, pred_, drug_class):\n",
    "\n",
    "    # Number of target features\n",
    "    num_targets = df.shape[1]\n",
    "    #names = df.columns.tolist()\n",
    "    # rearrange this names list if any changes to df response column order\n",
    "    names = ['HbA1c Outcome', 'LDL Outcome', 'HDL Outcome', 'BMI Outcome']\n",
    "    # Create subplots for each target feature\n",
    "    fig, axes = plt.subplots(nrows=1, ncols=num_targets, figsize=(15, 5))\n",
    "\n",
    "    # Set a common title\n",
    "    #fig.suptitle('Observed vs. Predicted Values', fontsize= 14)\n",
    "    colors = ['blue', 'maroon'] \n",
    "    scatter_plots = []\n",
    "    # Plot each target feature separately\n",
    "    for i, val in enumerate(names):\n",
    "        ax = axes[i] if num_targets > 1 else axes  # Handle the case when there's only one target\n",
    "\n",
    "        for idx, drug in enumerate(np.unique(drug_class)):\n",
    "            if idx==0:\n",
    "                drug_name = 'DPP-4'\n",
    "            else: drug_name = 'SGLT2'\n",
    "            indices = np.where(drug_class == drug)[0]\n",
    "            scatter = ax.scatter(df.iloc[indices, i], pred_[indices, i], marker='o', c=colors[idx], s=10, cmap='coolwarm', label=f'{drug_name}')\n",
    "            scatter_plots.append(scatter)  # Store the scatter plot object\n",
    "        \n",
    "        #scatter = ax.scatter(df.iloc[:, i], pred_[:, i], marker='o', s=10, c=drug_class ,cmap='coolwarm', label=f'Target {i + 1} Data Points')\n",
    "        regression_line = ax.plot(df.iloc[:, i], np.poly1d(np.polyfit(df.iloc[:, i], pred_[:, i], 1))(df.iloc[:, i]), color='black', linestyle='--', label=f'Regression Line')\n",
    "        #sns.regplot(x=df.iloc[:, i], y=pred_[:, i], ax=ax, scatter=False, color='black', label='Regression Line', ci=95)\n",
    "\n",
    "        #ax.set_xlabel(f'Observed Values', fontsize=18)\n",
    "        #ax.set_ylabel(f'Predicted Values',fontsize=18)\n",
    "        \n",
    "        # Set the subplot title\n",
    "        ax.set_title(f'{val}', fontsize=18)\n",
    "        \n",
    "        ax.grid(True)\n",
    "        \n",
    "    # Set common X and Y axis labels\n",
    "    fig.supxlabel('Observed Values', fontsize=18, y=0.08)\n",
    "    fig.supylabel('Predicted Values', fontsize=18, x=0.01)\n",
    "\n",
    "    handles, labels = ax.get_legend_handles_labels()\n",
    "\n",
    "    # Create legend outside the loop\n",
    "    fig.legend(handles, labels, loc=(0.85, 0.14), fontsize=14)\n",
    "    # Adjust layout for better appearance\n",
    "    plt.tight_layout(rect=[0, 0.03, 1, 0.95])\n",
    "\n",
    "    # Save the figure with higher resolution\n",
    "    plt.savefig('../resources/img/MultiOutput_Scatterplot.jpeg', dpi=300, bbox_inches='tight')\n",
    "\n",
    "    plt.show()\n",
    "\n",
    "y_pred = model.predict(X_test)\n",
    "y_pred_train = model.predict(X_train)\n",
    "\n",
    "plot_actual_pred(Y_test, y_pred, X_test['drug_class'])\n",
    "#plot_actual_pred(Y_train, y_pred_train)\n",
    "# Assuming Y_test and y_pred are your true and predicted values for multiple features\n",
    "# Replace Y_test and y_pred with your actual variables\n"
   ]
  },
  {
   "cell_type": "code",
   "execution_count": null,
   "id": "748b3756",
   "metadata": {
    "execution": {
     "iopub.execute_input": "2024-08-19T13:02:43.453079Z",
     "iopub.status.busy": "2024-08-19T13:02:43.452998Z",
     "iopub.status.idle": "2024-08-19T13:02:43.783334Z",
     "shell.execute_reply": "2024-08-19T13:02:43.783065Z"
    },
    "scrolled": true
   },
   "outputs": [],
   "source": [
    "#plot_actual_pred(Y_train, y_pred_train, X_train['drug_class'])"
   ]
  },
  {
   "cell_type": "markdown",
   "id": "f953c04f",
   "metadata": {},
   "source": [
    "# SHAP"
   ]
  },
  {
   "cell_type": "code",
   "execution_count": null,
   "id": "d690b5c5",
   "metadata": {
    "execution": {
     "iopub.execute_input": "2024-08-19T13:02:43.784811Z",
     "iopub.status.busy": "2024-08-19T13:02:43.784719Z",
     "iopub.status.idle": "2024-08-19T13:02:43.786940Z",
     "shell.execute_reply": "2024-08-19T13:02:43.786683Z"
    }
   },
   "outputs": [],
   "source": [
    "# print the JS visualization code to the notebook\n",
    "if (isshap):\n",
    "    explainer = shap.KernelExplainer(model=model.predict, data=X_train, link=\"identity\")\n",
    "\n",
    "    # Note: We are limiting to the first 50 training examples since it takes time to calculate the full number of sampels\n",
    "    shap_values = explainer.shap_values(X=X_test[selected_list])\n",
    "\n",
    "    shap.initjs()\n",
    "def get_shap_label(Y_test, val):\n",
    "    # Create the list of all labels for the drop down list\n",
    "    list_of_labels = Y_test.columns.to_list()\n",
    "\n",
    "    # Create a list of tuples so that the index of the label is what is returned\n",
    "    tuple_of_labels = list(zip(list_of_labels, range(len(list_of_labels))))\n",
    "\n",
    "    # Create a widget for the labels and then display the widget\n",
    "    current_label = widgets.Dropdown(\n",
    "        options=tuple_of_labels, value=val, description=\"Select Label:\"\n",
    "    )\n",
    "\n",
    "    # Display the dropdown list (Note: access index value with 'current_label.value')\n",
    "    return list_of_labels, current_label\n"
   ]
  },
  {
   "cell_type": "code",
   "execution_count": null,
   "id": "98376a98",
   "metadata": {
    "execution": {
     "iopub.execute_input": "2024-08-19T13:02:43.788172Z",
     "iopub.status.busy": "2024-08-19T13:02:43.788078Z",
     "iopub.status.idle": "2024-08-19T13:02:43.789602Z",
     "shell.execute_reply": "2024-08-19T13:02:43.789404Z"
    }
   },
   "outputs": [],
   "source": [
    "if (isshap):\n",
    "    list_of_labels, current_label = get_shap_label(Y_test, 3)"
   ]
  },
  {
   "cell_type": "code",
   "execution_count": null,
   "id": "93d4ae34",
   "metadata": {
    "execution": {
     "iopub.execute_input": "2024-08-19T13:02:43.790820Z",
     "iopub.status.busy": "2024-08-19T13:02:43.790758Z",
     "iopub.status.idle": "2024-08-19T13:02:43.792230Z",
     "shell.execute_reply": "2024-08-19T13:02:43.792022Z"
    }
   },
   "outputs": [],
   "source": [
    "if (isshap):\n",
    "    print(current_label)"
   ]
  },
  {
   "cell_type": "code",
   "execution_count": null,
   "id": "eeb31721",
   "metadata": {
    "execution": {
     "iopub.execute_input": "2024-08-19T13:02:43.793362Z",
     "iopub.status.busy": "2024-08-19T13:02:43.793295Z",
     "iopub.status.idle": "2024-08-19T13:02:43.794716Z",
     "shell.execute_reply": "2024-08-19T13:02:43.794483Z"
    }
   },
   "outputs": [],
   "source": [
    "if (isshap):\n",
    "    print(X_test.columns)"
   ]
  },
  {
   "cell_type": "code",
   "execution_count": null,
   "id": "f057db2f",
   "metadata": {
    "execution": {
     "iopub.execute_input": "2024-08-19T13:02:43.795883Z",
     "iopub.status.busy": "2024-08-19T13:02:43.795813Z",
     "iopub.status.idle": "2024-08-19T13:02:43.797714Z",
     "shell.execute_reply": "2024-08-19T13:02:43.797455Z"
    }
   },
   "outputs": [],
   "source": [
    "if (isshap):\n",
    "    X_test_fe = X_test.rename(columns={\n",
    "    'P_Krea': 'Creatinine',\n",
    "    'bmi': 'Baseline BMI',\n",
    "    'drug_class':'Drug class',\n",
    "    'eGFR':'Glomerular filtration rate',\n",
    "    'gluk':'Glucose',\n",
    "    'hba1c_bl_18m':'HbA1c 6-18 months before',\n",
    "    'hba1c_bl_6m':'Baseline HbA1c',\n",
    "    'hdl':'Baseline HDL',\n",
    "    'ika':'Age',\n",
    "    'ldl':'Baseline LDL',\n",
    "    'obese':'Obese',\n",
    "    't2d_dur_y':'T2D Duration (years)',\n",
    "    'trigly':'Triglycerides'\n",
    "    }, inplace=False)\n",
    "    "
   ]
  },
  {
   "cell_type": "code",
   "execution_count": null,
   "id": "f09ae369",
   "metadata": {
    "execution": {
     "iopub.execute_input": "2024-08-19T13:02:43.798883Z",
     "iopub.status.busy": "2024-08-19T13:02:43.798822Z",
     "iopub.status.idle": "2024-08-19T13:02:43.800881Z",
     "shell.execute_reply": "2024-08-19T13:02:43.800620Z"
    }
   },
   "outputs": [],
   "source": [
    "\n",
    "if (isshap):\n",
    "    \n",
    "    print(f\"Current Label Shown: {list_of_labels[current_label.value]}\\n\")\n",
    "\n",
    "    shap.summary_plot(\n",
    "        shap_values=shap_values[current_label.value], features=X_test_fe, show=False, plot_size=[15,15]\n",
    "    )\n",
    "\n",
    "    fig, ax = plt.gcf(), plt.gca()\n",
    "    ax.tick_params(labelsize=24)\n",
    "    ax.set_xlabel(\"SHAP value (impact on model output)\", fontsize=24)\n",
    "\n",
    "    cb_ax = fig.axes[1]\n",
    "    cb_ax.tick_params(labelsize=24)\n",
    "    cb_ax.set_ylabel(\"Feature value\", fontsize=24)\n",
    "\n",
    "    plt.savefig('../resources/img/bmi_fs.jpeg' ,bbox_inches='tight', dpi=300)\n",
    "\n",
    "    plt.show()\n",
    "\n",
    "    #high positive SHAP value for a specific instance, \n",
    "    #means that increasing the value of that feature would tend to increase the predicted output \n",
    "    #of the regression model for that instance."
   ]
  },
  {
   "cell_type": "code",
   "execution_count": null,
   "id": "4a671b87",
   "metadata": {
    "execution": {
     "iopub.execute_input": "2024-08-19T13:02:43.801996Z",
     "iopub.status.busy": "2024-08-19T13:02:43.801935Z",
     "iopub.status.idle": "2024-08-19T13:02:43.803494Z",
     "shell.execute_reply": "2024-08-19T13:02:43.803280Z"
    }
   },
   "outputs": [],
   "source": [
    "# Decision plot\n",
    "# The x-axis represents the model’s output.\n",
    "# All SHAP values are relative to the model’s expected value (base value)\n",
    "# the features are ordered by the importance. (The importance is calculated over the observations plotted. This is usually different than the importance ordering for the entire dataset)\n",
    "# At the top of the plot, each line strikes the x-axis at its corresponding observation’s predicted value. \n",
    "# Moving from the bottom of the plot to the top, SHAP values for each feature are added to the model’s base value\n",
    "\n",
    "#decision_plot_index = 150 # 160\n",
    "#print('real values : ', Y_test.iloc[decision_plot_index].values)\n",
    "#print('predicted values : ', model.predict(X_test.iloc[[decision_plot_index]]))\n",
    "      \n",
    "#shap.decision_plot(explainer.expected_value[current_label.value],\n",
    "#                   shap_values[current_label.value][decision_plot_index],\n",
    "#                   features = X_test_before_scale[selected_list].iloc[decision_plot_index])\n"
   ]
  },
  {
   "cell_type": "code",
   "execution_count": null,
   "id": "1c156514",
   "metadata": {
    "execution": {
     "iopub.execute_input": "2024-08-19T13:02:43.804570Z",
     "iopub.status.busy": "2024-08-19T13:02:43.804492Z",
     "iopub.status.idle": "2024-08-19T13:02:43.805892Z",
     "shell.execute_reply": "2024-08-19T13:02:43.805676Z"
    }
   },
   "outputs": [],
   "source": [
    "#X_test_before_scale"
   ]
  },
  {
   "cell_type": "code",
   "execution_count": null,
   "id": "cdc38e61",
   "metadata": {
    "execution": {
     "iopub.execute_input": "2024-08-19T13:02:43.807003Z",
     "iopub.status.busy": "2024-08-19T13:02:43.806945Z",
     "iopub.status.idle": "2024-08-19T13:02:43.808332Z",
     "shell.execute_reply": "2024-08-19T13:02:43.808100Z"
    }
   },
   "outputs": [],
   "source": [
    "#X_test"
   ]
  },
  {
   "cell_type": "code",
   "execution_count": null,
   "id": "dcece35b",
   "metadata": {
    "execution": {
     "iopub.execute_input": "2024-08-19T13:02:43.809393Z",
     "iopub.status.busy": "2024-08-19T13:02:43.809332Z",
     "iopub.status.idle": "2024-08-19T13:02:43.810707Z",
     "shell.execute_reply": "2024-08-19T13:02:43.810502Z"
    }
   },
   "outputs": [],
   "source": [
    "#check index are in same order\n",
    "#index_order_same = (X_test.index == X_test_before_scale.index).all()\n",
    "\n",
    "#if index_order_same:\n",
    "#    print(\"The index of the two DataFrames are in the same order.\")\n",
    "#else:\n",
    "#    print(\"The index of the two DataFrames are not in the same order.\")"
   ]
  },
  {
   "cell_type": "code",
   "execution_count": null,
   "id": "13e33ffc",
   "metadata": {},
   "outputs": [],
   "source": []
  },
  {
   "cell_type": "code",
   "execution_count": null,
   "id": "29da42a2",
   "metadata": {},
   "outputs": [],
   "source": []
  },
  {
   "cell_type": "code",
   "execution_count": null,
   "id": "ee1e6fb3",
   "metadata": {},
   "outputs": [],
   "source": []
  },
  {
   "cell_type": "code",
   "execution_count": null,
   "id": "ad5e852c",
   "metadata": {
    "execution": {
     "iopub.execute_input": "2024-08-19T13:02:43.812076Z",
     "iopub.status.busy": "2024-08-19T13:02:43.811996Z",
     "iopub.status.idle": "2024-08-19T13:02:44.059990Z",
     "shell.execute_reply": "2024-08-19T13:02:44.059743Z"
    }
   },
   "outputs": [],
   "source": [
    "# make copies of test dataset\n",
    "# drug classes after normalization\n",
    "# 0 = GLP-1 - 2\n",
    "# 0.5 = DPP-4 -3\n",
    "# 1 = SGLT2 - 4\n",
    "\n",
    "if(is_train_with_all):\n",
    "    sglt_val = 0.375\n",
    "    dpp_val = 0.25\n",
    "else:\n",
    "    sglt_val = 1\n",
    "    dpp_val = 0\n",
    "\n",
    "X = X_test.copy()\n",
    "X_test_copy = X_test.copy()\n",
    "X_test_copy['assigned_drug_hba1c'] = np.nan\n",
    "X_test_copy['predicted_change_hba1c'] = np.nan\n",
    "X_test_copy['assigned_drug_ldl'] = np.nan\n",
    "X_test_copy['predicted_change_ldl'] = np.nan\n",
    "X_test_copy['assigned_drug_hdl'] = np.nan\n",
    "X_test_copy['predicted_change_hdl'] = np.nan\n",
    "X_test_copy['assigned_drug_bmi'] = np.nan\n",
    "X_test_copy['predicted_change_bmi'] = np.nan\n",
    "\n",
    "assigned_drug_class_0 = np.nan\n",
    "assigned_drug_class_1 = np.nan\n",
    "assigned_drug_class_2 = np.nan\n",
    "assigned_drug_class_3 = np.nan\n",
    "max_change_0 = np.nan\n",
    "max_change_1 = np.nan\n",
    "max_change_2 = np.nan\n",
    "max_change_3 = np.nan\n",
    "    \n",
    "for index, row in X.iterrows():\n",
    "    drug_class = row['drug_class']    \n",
    "    pred_original = model.predict(row.values[None])[0]\n",
    "    pred_sglt, pred_dpp = pred_all(model, row, drug_class) \n",
    "    \n",
    "    for j in range(Y_train.shape[1]):\n",
    "        variable_change_name = f\"max_change_{j}\"\n",
    "        variable_drug_name = f\"assigned_drug_class_{j}\"\n",
    "        \n",
    "        if (Y_train.iloc[:,j].name == 'hdl_12m'):\n",
    "            temp_max_change, temp_assigned_drug_class = find_highest_respponse_value(pred_sglt[j], pred_dpp[j])\n",
    "        else:\n",
    "            temp_max_change, temp_assigned_drug_class = find_lowest_respponse_value(pred_sglt[j], pred_dpp[j])\n",
    "        # Update the original variables\n",
    "        globals()[variable_change_name] = temp_max_change\n",
    "        globals()[variable_drug_name] = temp_assigned_drug_class\n",
    "    \n",
    "#     print('actual: ', drug_class, 'assigned: ', assigned_drug_class_0)\n",
    "    X_test_copy.at[index, 'assigned_drug_hba1c'] = assigned_drug_class_0\n",
    "    X_test_copy.at[index, 'predicted_change_hba1c'] = max_change_0\n",
    "    \n",
    "    X_test_copy.at[index, 'assigned_drug_ldl'] = assigned_drug_class_1\n",
    "    X_test_copy.at[index, 'predicted_change_ldl'] = max_change_1\n",
    "    \n",
    "    X_test_copy.at[index, 'assigned_drug_hdl'] = assigned_drug_class_2\n",
    "    X_test_copy.at[index, 'predicted_change_hdl'] = max_change_2\n",
    "    \n",
    "    X_test_copy.at[index, 'assigned_drug_bmi'] = assigned_drug_class_3\n",
    "    X_test_copy.at[index, 'predicted_change_bmi'] = max_change_3\n",
    "\n",
    "\n",
    "denormalized_test_data = scaler.inverse_transform(X_test_original)\n",
    "denormalized_test_df = pd.DataFrame(denormalized_test_data, columns=X_test_original.columns)\n",
    "denormalized_test_df = denormalized_test_df.drop(['drug_class'], axis = 1)\n",
    "\n",
    "data = denormalized_test_df\n",
    "X_test_ = X_test_copy.copy()\n",
    "X_test_= X_test_.reset_index()\n",
    "Y_test = pd.DataFrame(Y_test)\n",
    "Y_test = Y_test.reset_index()\n",
    "\n",
    "data[response_variable_list] = Y_test[response_variable_list]\n",
    "\n",
    "data['assigned_drug_hba1c'] = X_test_['assigned_drug_hba1c']\n",
    "data['predicted_change_hba1c'] = X_test_['predicted_change_hba1c']\n",
    "data['assigned_drug_ldl'] = X_test_['assigned_drug_ldl']\n",
    "data['predicted_change_ldl'] = X_test_['predicted_change_ldl']\n",
    "data['assigned_drug_hdl'] = X_test_['assigned_drug_hdl']\n",
    "data['predicted_change_hdl'] = X_test_['predicted_change_hdl']\n",
    "data['assigned_drug_bmi'] = X_test_['assigned_drug_bmi']\n",
    "data['predicted_change_bmi'] = X_test_['predicted_change_bmi']\n",
    "data['drug_class'] = X_test_['drug_class']\n",
    "\n",
    "# save data to csv\n",
    "data.to_csv('../resources/output/pred_drug_classes.csv')\n",
    "\n",
    "# drug classes after normalization\n",
    "# 0 = GLP-1 \n",
    "# 0.5 = DPP-4 \n",
    "# 1 = SGLT2\n",
    "\n",
    "# 2=GLP-1 analogues (A10BJ)\n",
    "# 3=DPP-4 inhibitors (A10BH)\n",
    "# 4=SGLT2 inhibitors (A10BK)\n",
    "\n",
    "dpp_strata_hba1c = data[(data['assigned_drug_hba1c'] == dpp_val)]\n",
    "sglt_strata_hba1c = data[(data['assigned_drug_hba1c'] == sglt_val)] \n",
    "\n",
    "dpp_strata_ldl = data[(data['assigned_drug_ldl'] == dpp_val)]\n",
    "sglt_strata_ldl = data[(data['assigned_drug_ldl'] == sglt_val)] \n",
    "\n",
    "dpp_strata_hdl = data[(data['assigned_drug_hdl'] == dpp_val)]\n",
    "sglt_strata_hdl = data[(data['assigned_drug_hdl'] == sglt_val)] \n",
    "\n",
    "dpp_strata_bmi = data[(data['assigned_drug_bmi'] == dpp_val)]\n",
    "sglt_strata_bmi = data[(data['assigned_drug_bmi'] == sglt_val)] \n",
    "\n",
    "dpp_strata_actual = data[(data['drug_class'] == dpp_val)]\n",
    "sglt_strata_actual = data[(data['drug_class'] == sglt_val)] \n"
   ]
  },
  {
   "cell_type": "code",
   "execution_count": null,
   "id": "89a0ca55",
   "metadata": {
    "execution": {
     "iopub.execute_input": "2024-08-19T13:02:44.061413Z",
     "iopub.status.busy": "2024-08-19T13:02:44.061307Z",
     "iopub.status.idle": "2024-08-19T13:02:44.063593Z",
     "shell.execute_reply": "2024-08-19T13:02:44.063417Z"
    }
   },
   "outputs": [],
   "source": [
    "print(' Sample count in test data')\n",
    "print(' number of dpp4 samples in test dataset : ', dpp_strata_actual.shape[0])\n",
    "print(' number of sglt2 samples in test dataset : ', sglt_strata_actual.shape[0])\n",
    "\n",
    "print(' \\n Assigned sample count: HBA1C')\n",
    "\n",
    "print(' number of dpp4 assigned : ', dpp_strata_hba1c.shape[0])\n",
    "print(' number of sglt2 assigned : ', sglt_strata_hba1c.shape[0])\n",
    "\n",
    "print(' \\n Assigned sample count: LDL')\n",
    "\n",
    "print(' number of dpp4 assigned : ', dpp_strata_ldl.shape[0])\n",
    "print(' number of sglt2 assigned : ', sglt_strata_ldl.shape[0])\n",
    "\n",
    "print(' \\n Assigned sample count: HDL')\n",
    "\n",
    "print(' number of dpp4 assigned : ', dpp_strata_hdl.shape[0])\n",
    "print(' number of sglt2 assigned : ', sglt_strata_hdl.shape[0])\n",
    "\n",
    "print(' \\n Assigned sample count: BMI')\n",
    "\n",
    "print(' number of dpp4 assigned : ', dpp_strata_bmi.shape[0])\n",
    "print(' number of sglt2 assigned : ', sglt_strata_bmi.shape[0])\n",
    "\n"
   ]
  },
  {
   "cell_type": "code",
   "execution_count": null,
   "id": "4eb96364",
   "metadata": {
    "execution": {
     "iopub.execute_input": "2024-08-19T13:02:44.064760Z",
     "iopub.status.busy": "2024-08-19T13:02:44.064693Z",
     "iopub.status.idle": "2024-08-19T13:02:44.086494Z",
     "shell.execute_reply": "2024-08-19T13:02:44.086144Z"
    }
   },
   "outputs": [],
   "source": [
    "# glp_strata - check concordant and discordant\n",
    "# 0 = GLP-1 \n",
    "# 0.5 = DPP-4 \n",
    "# 1 = SGLT2\n",
    "    \n",
    "print('HBA1C')\n",
    "(concordant_dpp_hba1c, discordant_dpp_sglt_hba1c,\n",
    "    concordant_sglt_hba1c, discordant_sglt_dpp_hba1c ) = get_concordant_discordant(dpp_strata_hba1c,sglt_strata_hba1c, data,\n",
    "                                                                                   dpp_strata_actual, sglt_strata_actual,\n",
    "                                                                               variable_name = 'assigned_drug_hba1c')\n",
    "print('LDL')\n",
    "(concordant_dpp_ldl, discordant_dpp_sglt_ldl,\n",
    "    concordant_sglt_ldl, discordant_sglt_dpp_ldl ) = get_concordant_discordant(dpp_strata_ldl,sglt_strata_ldl, data,\n",
    "                                                                                   dpp_strata_actual, sglt_strata_actual,\n",
    "                                                                               variable_name = 'assigned_drug_ldl')\n",
    "print('HDL')\n",
    "(concordant_dpp_hdl, discordant_dpp_sglt_hdl,\n",
    "    concordant_sglt_hdl, discordant_sglt_dpp_hdl ) = get_concordant_discordant(dpp_strata_hdl,sglt_strata_hdl, data,\n",
    "                                                                                   dpp_strata_actual, sglt_strata_actual,\n",
    "                                                                                 variable_name = 'assigned_drug_hdl')\n",
    "print('BMI') \n",
    "(concordant_dpp_bmi, discordant_dpp_sglt_bmi,\n",
    "    concordant_sglt_bmi, discordant_sglt_dpp_bmi ) = get_concordant_discordant(dpp_strata_bmi,sglt_strata_bmi, data,\n",
    "                                                                                   dpp_strata_actual, sglt_strata_actual,\n",
    "                                                                                  variable_name = 'assigned_drug_bmi')\n",
    "\n",
    "    \n"
   ]
  },
  {
   "cell_type": "markdown",
   "id": "3da821fb",
   "metadata": {},
   "source": [
    "# Remove outliers in our model predicted change"
   ]
  },
  {
   "cell_type": "code",
   "execution_count": null,
   "id": "b55ba8a6",
   "metadata": {
    "execution": {
     "iopub.execute_input": "2024-08-19T13:02:44.088251Z",
     "iopub.status.busy": "2024-08-19T13:02:44.088159Z",
     "iopub.status.idle": "2024-08-19T13:02:44.271656Z",
     "shell.execute_reply": "2024-08-19T13:02:44.271387Z"
    }
   },
   "outputs": [],
   "source": [
    "\n",
    "df_ = drug_class_visualization(dpp_strata_hba1c, dpp_strata_actual, sglt_strata_hba1c,sglt_strata_actual,\n",
    "                                     response_variable='hba1c_12m', \n",
    "                                     predicted_change='predicted_change_hba1c',\n",
    "                                     assigned_drug='assigned_drug_hba1c',\n",
    "                                     baseline_val='hba1c_bl_6m')\n",
    "\n"
   ]
  },
  {
   "cell_type": "code",
   "execution_count": null,
   "id": "a268ecc0",
   "metadata": {
    "execution": {
     "iopub.execute_input": "2024-08-19T13:02:44.272970Z",
     "iopub.status.busy": "2024-08-19T13:02:44.272884Z",
     "iopub.status.idle": "2024-08-19T13:02:44.457263Z",
     "shell.execute_reply": "2024-08-19T13:02:44.456958Z"
    }
   },
   "outputs": [],
   "source": [
    "df_ldl_ = drug_class_visualization(dpp_strata_ldl, dpp_strata_actual, sglt_strata_ldl,sglt_strata_actual,\n",
    "                                     response_variable='ldl_12m', \n",
    "                                     predicted_change='predicted_change_ldl',\n",
    "                                     assigned_drug='assigned_drug_ldl',\n",
    "                                     baseline_val='ldl')\n"
   ]
  },
  {
   "cell_type": "code",
   "execution_count": null,
   "id": "0639aed8",
   "metadata": {
    "execution": {
     "iopub.execute_input": "2024-08-19T13:02:44.458558Z",
     "iopub.status.busy": "2024-08-19T13:02:44.458473Z",
     "iopub.status.idle": "2024-08-19T13:02:44.648235Z",
     "shell.execute_reply": "2024-08-19T13:02:44.647980Z"
    }
   },
   "outputs": [],
   "source": [
    "df_hdl_ = drug_class_visualization(dpp_strata_hdl, dpp_strata_actual, sglt_strata_hdl,sglt_strata_actual,\n",
    "                                     response_variable='hdl_12m', \n",
    "                                     predicted_change='predicted_change_hdl',\n",
    "                                     assigned_drug='assigned_drug_hdl',\n",
    "                                     baseline_val='hdl')\n"
   ]
  },
  {
   "cell_type": "code",
   "execution_count": null,
   "id": "a57a857c",
   "metadata": {
    "execution": {
     "iopub.execute_input": "2024-08-19T13:02:44.649522Z",
     "iopub.status.busy": "2024-08-19T13:02:44.649435Z",
     "iopub.status.idle": "2024-08-19T13:02:44.848187Z",
     "shell.execute_reply": "2024-08-19T13:02:44.847894Z"
    }
   },
   "outputs": [],
   "source": [
    "df_bmi_ = drug_class_visualization(dpp_strata_bmi, dpp_strata_actual, sglt_strata_bmi,sglt_strata_actual,\n",
    "                                     response_variable='bmi_12m', \n",
    "                                     predicted_change='predicted_change_bmi',\n",
    "                                     assigned_drug='assigned_drug_bmi',\n",
    "                                     baseline_val='bmi')\n"
   ]
  },
  {
   "cell_type": "code",
   "execution_count": null,
   "id": "69fc3830",
   "metadata": {},
   "outputs": [],
   "source": []
  },
  {
   "cell_type": "code",
   "execution_count": null,
   "id": "bf9e9f7d",
   "metadata": {
    "execution": {
     "iopub.execute_input": "2024-08-19T13:02:44.849579Z",
     "iopub.status.busy": "2024-08-19T13:02:44.849480Z",
     "iopub.status.idle": "2024-08-19T13:02:44.861540Z",
     "shell.execute_reply": "2024-08-19T13:02:44.861320Z"
    }
   },
   "outputs": [],
   "source": [
    "\n",
    "\n",
    "\n",
    "dpp_df_hba1c = drug_class_outlier_remove(dpp_strata_hba1c, dpp_strata_actual, 'hba1c_12m','predicted_change_hba1c', 'assigned_drug_hba1c', 'hba1c_bl_6m')\n",
    "sglt_df_hba1c = drug_class_outlier_remove(sglt_strata_hba1c, sglt_strata_actual,'hba1c_12m',\n",
    "                                            'predicted_change_hba1c', 'assigned_drug_hba1c', 'hba1c_bl_6m')\n",
    "    \n",
    "dpp_df_ldl = drug_class_outlier_remove(dpp_strata_ldl, dpp_strata_actual, 'ldl_12m',\n",
    "                                         'predicted_change_ldl', 'assigned_drug_ldl', 'ldl')\n",
    "sglt_df_ldl = drug_class_outlier_remove(sglt_strata_ldl, sglt_strata_actual, 'ldl_12m',\n",
    "                                          'predicted_change_ldl', 'assigned_drug_ldl', 'ldl')\n",
    "    \n",
    "dpp_df_hdl = drug_class_outlier_remove(dpp_strata_hdl, dpp_strata_actual, 'hdl_12m',\n",
    "                                         'predicted_change_hdl', 'assigned_drug_hdl', 'hdl')\n",
    "sglt_df_hdl = drug_class_outlier_remove(sglt_strata_hdl, sglt_strata_actual, 'hdl_12m',\n",
    "                                          'predicted_change_hdl', 'assigned_drug_hdl', 'hdl')\n",
    "    \n",
    "dpp_df_bmi = drug_class_outlier_remove(dpp_strata_bmi, dpp_strata_actual, 'bmi_12m',\n",
    "                                         'predicted_change_bmi', 'assigned_drug_bmi', 'bmi')\n",
    "sglt_df_bmi = drug_class_outlier_remove(sglt_strata_bmi, sglt_strata_actual, 'bmi_12m',\n",
    "                                          'predicted_change_bmi', 'assigned_drug_bmi', 'bmi')\n"
   ]
  },
  {
   "cell_type": "code",
   "execution_count": null,
   "id": "f23cf864",
   "metadata": {
    "execution": {
     "iopub.execute_input": "2024-08-19T13:02:44.862884Z",
     "iopub.status.busy": "2024-08-19T13:02:44.862814Z",
     "iopub.status.idle": "2024-08-19T13:02:44.872748Z",
     "shell.execute_reply": "2024-08-19T13:02:44.872518Z"
    }
   },
   "outputs": [],
   "source": [
    "\n",
    "print('HBA1C')\n",
    "(concordant_dpp_hba1c, discordant_dpp_sglt_hba1c,\n",
    "    concordant_sglt_hba1c, discordant_sglt_dpp_hba1c ) = get_concordant_discordant(dpp_df_hba1c,sglt_df_hba1c, data,\n",
    "                                                                                   dpp_strata_actual, sglt_strata_actual,\n",
    "                                                                                  variable_name = 'assigned_drug_hba1c')\n",
    "\n",
    "print('\\n============= HBA1C ===================')    \n",
    "print_change_mean(concordant_dpp_hba1c, discordant_dpp_sglt_hba1c,\n",
    "            concordant_sglt_hba1c, discordant_sglt_dpp_hba1c, response_variable = 'hba1c_12m')\n",
    "\n",
    "print('\\n\\n====== Average change of other 3 responses =========')\n",
    "calculate_percentage_change_othre_responses(concordant_dpp_hba1c, discordant_dpp_sglt_hba1c,\n",
    "            concordant_sglt_hba1c, discordant_sglt_dpp_hba1c, \n",
    "            response_variable1='ldl_12m', response_variable2='hdl_12m', response_variable3='bmi_12m',\n",
    "            baseline_val1='ldl',baseline_val2='hdl', baseline_val3='bmi',\n",
    "            label1='LDL', label2='HDL', label3='BMI')\n",
    "    \n",
    "print('\\n\\n====== Percentage in Original data =========')\n",
    "percentage_change_original_data(dpp_strata_actual, sglt_strata_actual,baseline_val='hba1c_bl_6m', response_variable = 'hba1c_12m')\n",
    "\n",
    "\n",
    "calculate_change_diff(concordant_dpp_hba1c, discordant_dpp_sglt_hba1c, concordant_sglt_hba1c, discordant_sglt_dpp_hba1c,\n",
    "                     'hba1c_12m', 'hba1c_bl_6m', 'predicted_change_hba1c')\n"
   ]
  },
  {
   "cell_type": "code",
   "execution_count": null,
   "id": "8a4da40c",
   "metadata": {},
   "outputs": [],
   "source": []
  },
  {
   "cell_type": "code",
   "execution_count": null,
   "id": "696ddcf5",
   "metadata": {
    "execution": {
     "iopub.execute_input": "2024-08-19T13:02:44.874015Z",
     "iopub.status.busy": "2024-08-19T13:02:44.873946Z",
     "iopub.status.idle": "2024-08-19T13:02:44.883070Z",
     "shell.execute_reply": "2024-08-19T13:02:44.882842Z"
    }
   },
   "outputs": [],
   "source": [
    "\n",
    "print('LDL')\n",
    "(concordant_dpp_ldl, discordant_dpp_sglt_ldl,\n",
    "    concordant_sglt_ldl, discordant_sglt_dpp_ldl ) = get_concordant_discordant(dpp_df_ldl,sglt_df_ldl, data,\n",
    "                                                                                   dpp_strata_actual, sglt_strata_actual,\n",
    "                                                                                  variable_name = 'assigned_drug_ldl')\n",
    "\n",
    "print('\\n============= LDL ===================')    \n",
    "print_change_mean(concordant_dpp_ldl, discordant_dpp_sglt_ldl,\n",
    "            concordant_sglt_ldl, discordant_sglt_dpp_ldl, response_variable = 'ldl_12m')\n",
    "\n",
    "\n",
    "print('\\n\\n====== Average change of other 3 responses =========')\n",
    "calculate_percentage_change_othre_responses(concordant_dpp_hba1c, discordant_dpp_sglt_hba1c,\n",
    "            concordant_sglt_hba1c, discordant_sglt_dpp_hba1c, \n",
    "            response_variable1='hba1c_12m', response_variable2='hdl_12m', response_variable3='bmi_12m',\n",
    "            baseline_val1='hba1c_bl_6m',baseline_val2='hdl', baseline_val3='bmi',\n",
    "            label1='HBA1C', label2='HDL', label3='BMI')\n",
    "\n",
    "print('\\n\\n====== Percentage in Original data =========')\n",
    "percentage_change_original_data(dpp_strata_actual, sglt_strata_actual, baseline_val='ldl', response_variable = 'ldl_12m')\n",
    "\n",
    "\n",
    "calculate_change_diff(concordant_dpp_ldl, discordant_dpp_sglt_ldl, concordant_sglt_ldl, discordant_sglt_dpp_ldl,\n",
    "                     'ldl_12m', 'ldl', 'predicted_change_ldl')\n"
   ]
  },
  {
   "cell_type": "code",
   "execution_count": null,
   "id": "9189fe25",
   "metadata": {
    "execution": {
     "iopub.execute_input": "2024-08-19T13:02:44.884278Z",
     "iopub.status.busy": "2024-08-19T13:02:44.884212Z",
     "iopub.status.idle": "2024-08-19T13:02:44.893733Z",
     "shell.execute_reply": "2024-08-19T13:02:44.893523Z"
    }
   },
   "outputs": [],
   "source": [
    "\n",
    "print('HDL')\n",
    "(concordant_dpp_hdl, discordant_dpp_sglt_hdl,\n",
    "    concordant_sglt_hdl, discordant_sglt_dpp_hdl ) = get_concordant_discordant(dpp_df_hdl,sglt_df_hdl, data,\n",
    "                                                                                   dpp_strata_actual, sglt_strata_actual,\n",
    "                                                                                  variable_name = 'assigned_drug_hdl')\n",
    "print('\\n============= HDL ===================')    \n",
    "print_change_mean(concordant_dpp_hdl, discordant_dpp_sglt_hdl,\n",
    "            concordant_sglt_hdl, discordant_sglt_dpp_hdl, response_variable = 'hdl_12m')\n",
    "\n",
    "\n",
    "print('\\n\\n====== Average change of other 3 responses =========')\n",
    "calculate_percentage_change_othre_responses(concordant_dpp_hba1c, discordant_dpp_sglt_hba1c,\n",
    "            concordant_sglt_hba1c, discordant_sglt_dpp_hba1c, \n",
    "            response_variable1='hba1c_12m', response_variable2='ldl_12m', response_variable3='bmi_12m',\n",
    "            baseline_val1='hba1c_bl_6m',baseline_val2='ldl', baseline_val3='bmi',\n",
    "            label1='HBA1C', label2='LDL', label3='BMI')\n",
    "\n",
    "print('\\n\\n====== Percentage in Original data =========')\n",
    "percentage_change_original_data(dpp_strata_actual, sglt_strata_actual, baseline_val='hdl', response_variable = 'hdl_12m')\n",
    "\n",
    "\n",
    "calculate_change_diff(concordant_dpp_hdl, discordant_dpp_sglt_hdl, concordant_sglt_hdl, discordant_sglt_dpp_hdl,\n",
    "                     'hdl_12m', 'hdl', 'predicted_change_hdl')\n"
   ]
  },
  {
   "cell_type": "code",
   "execution_count": null,
   "id": "b5d30b9f",
   "metadata": {
    "execution": {
     "iopub.execute_input": "2024-08-19T13:02:44.894950Z",
     "iopub.status.busy": "2024-08-19T13:02:44.894880Z",
     "iopub.status.idle": "2024-08-19T13:02:44.904353Z",
     "shell.execute_reply": "2024-08-19T13:02:44.904129Z"
    }
   },
   "outputs": [],
   "source": [
    "\n",
    "print('BMI')\n",
    "(concordant_dpp_bmi, discordant_dpp_sglt_bmi,\n",
    "    concordant_sglt_bmi, discordant_sglt_dpp_bmi ) = get_concordant_discordant(dpp_df_bmi,sglt_df_bmi, data,\n",
    "                                                                                   dpp_strata_actual, sglt_strata_actual,\n",
    "                                                                                  variable_name = 'assigned_drug_bmi')\n",
    "\n",
    "print('\\n============= BMI ===================')    \n",
    "print_change_mean(concordant_dpp_bmi, discordant_dpp_sglt_bmi,\n",
    "            concordant_sglt_bmi, discordant_sglt_dpp_bmi, response_variable = 'bmi_12m')\n",
    "\n",
    "print('\\n\\n====== Average change of other 3 responses =========')\n",
    "calculate_percentage_change_othre_responses(concordant_dpp_hba1c, discordant_dpp_sglt_hba1c,\n",
    "            concordant_sglt_hba1c, discordant_sglt_dpp_hba1c, \n",
    "            response_variable1='hba1c_12m', response_variable2='ldl_12m', response_variable3='hdl_12m',\n",
    "            baseline_val1='hba1c_bl_6m',baseline_val2='ldl', baseline_val3='hdl',\n",
    "            label1='HBA1C', label2='LDL', label3='HDL')\n",
    "\n",
    "print('\\n\\n====== Percentage in Original data =========')\n",
    "percentage_change_original_data(dpp_strata_actual, sglt_strata_actual,baseline_val='bmi',response_variable = 'bmi_12m')\n",
    "\n",
    "\n",
    "calculate_change_diff(concordant_dpp_bmi, discordant_dpp_sglt_bmi, concordant_sglt_bmi, discordant_sglt_dpp_bmi,\n",
    "                     'bmi_12m', 'bmi', 'predicted_change_bmi')\n"
   ]
  },
  {
   "cell_type": "code",
   "execution_count": null,
   "id": "0a3dfb4f",
   "metadata": {
    "execution": {
     "iopub.execute_input": "2024-08-19T13:02:44.905565Z",
     "iopub.status.busy": "2024-08-19T13:02:44.905504Z",
     "iopub.status.idle": "2024-08-19T13:02:44.909869Z",
     "shell.execute_reply": "2024-08-19T13:02:44.909637Z"
    }
   },
   "outputs": [],
   "source": [
    "print('\\n\\n====== Percentage =========')\n",
    "calculate_percentage_change(concordant_dpp_hba1c, discordant_dpp_sglt_hba1c,\n",
    "            concordant_sglt_hba1c, discordant_sglt_dpp_hba1c, response_variable = 'hba1c_12m', baseline_val='hba1c_bl_6m')\n",
    "\n",
    "print('\\n\\n====== Percentage =========')\n",
    "calculate_percentage_change(concordant_dpp_ldl, discordant_dpp_sglt_ldl,\n",
    "            concordant_sglt_ldl, discordant_sglt_dpp_ldl, response_variable = 'ldl_12m', baseline_val='ldl')\n",
    "\n",
    "print('\\n\\n====== Percentage =========')\n",
    "calculate_percentage_change(concordant_dpp_hdl, discordant_dpp_sglt_hdl,\n",
    "            concordant_sglt_hdl, discordant_sglt_dpp_hdl, response_variable = 'hdl_12m', baseline_val='hdl')\n",
    "\n",
    "print('\\n\\n====== Percentage =========')\n",
    "calculate_percentage_change(concordant_dpp_bmi, discordant_dpp_sglt_bmi,\n",
    "            concordant_sglt_bmi, discordant_sglt_dpp_bmi,  response_variable = 'bmi_12m', baseline_val='bmi' )\n"
   ]
  },
  {
   "cell_type": "code",
   "execution_count": null,
   "id": "c0bc1823",
   "metadata": {},
   "outputs": [],
   "source": []
  },
  {
   "cell_type": "code",
   "execution_count": null,
   "id": "bb6d3d44",
   "metadata": {},
   "outputs": [],
   "source": []
  },
  {
   "cell_type": "code",
   "execution_count": null,
   "id": "65d00228",
   "metadata": {},
   "outputs": [],
   "source": []
  },
  {
   "cell_type": "code",
   "execution_count": null,
   "id": "c65d3bbf",
   "metadata": {},
   "outputs": [],
   "source": []
  },
  {
   "cell_type": "code",
   "execution_count": null,
   "id": "cd56bbf1",
   "metadata": {},
   "outputs": [],
   "source": []
  }
 ],
 "metadata": {
  "kernelspec": {
   "display_name": "Python 3 (ipykernel)",
   "language": "python",
   "name": "python3"
  },
  "language_info": {
   "codemirror_mode": {
    "name": "ipython",
    "version": 3
   },
   "file_extension": ".py",
   "mimetype": "text/x-python",
   "name": "python",
   "nbconvert_exporter": "python",
   "pygments_lexer": "ipython3",
   "version": "3.11.5"
  }
 },
 "nbformat": 4,
 "nbformat_minor": 5
}
